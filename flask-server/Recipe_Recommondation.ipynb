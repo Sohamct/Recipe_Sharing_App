{
 "cells": [
  {
   "cell_type": "code",
   "execution_count": 127,
   "id": "82a0b65f-d411-48f3-bc1d-e80ac16d77a3",
   "metadata": {},
   "outputs": [],
   "source": [
    "import numpy as np\n",
    "import pandas as pd"
   ]
  },
  {
   "cell_type": "code",
   "execution_count": 261,
   "id": "885e4d7f-1727-4ab4-ae6b-6f98a0a096da",
   "metadata": {},
   "outputs": [
    {
     "data": {
      "text/html": [
       "<div>\n",
       "<style scoped>\n",
       "    .dataframe tbody tr th:only-of-type {\n",
       "        vertical-align: middle;\n",
       "    }\n",
       "\n",
       "    .dataframe tbody tr th {\n",
       "        vertical-align: top;\n",
       "    }\n",
       "\n",
       "    .dataframe thead th {\n",
       "        text-align: right;\n",
       "    }\n",
       "</style>\n",
       "<table border=\"1\" class=\"dataframe\">\n",
       "  <thead>\n",
       "    <tr style=\"text-align: right;\">\n",
       "      <th></th>\n",
       "      <th>_id</th>\n",
       "      <th>title</th>\n",
       "      <th>description</th>\n",
       "      <th>ingredients</th>\n",
       "      <th>vegNonVeg</th>\n",
       "      <th>dishType</th>\n",
       "      <th>category</th>\n",
       "      <th>favorites</th>\n",
       "    </tr>\n",
       "  </thead>\n",
       "  <tbody>\n",
       "    <tr>\n",
       "      <th>0</th>\n",
       "      <td>6603aba5389c912a6b06549d</td>\n",
       "      <td>Panipuri</td>\n",
       "      <td>Rinse coriander and mint leaves in water and ...</td>\n",
       "      <td>[{'ingredient_name': 'medium Onion', 'quantity...</td>\n",
       "      <td>Veg</td>\n",
       "      <td>Indian</td>\n",
       "      <td>Fast food</td>\n",
       "      <td>[65d4c1b9e60cc7b970254148, 6605369a66779d49f72...</td>\n",
       "    </tr>\n",
       "  </tbody>\n",
       "</table>\n",
       "</div>"
      ],
      "text/plain": [
       "                        _id     title  \\\n",
       "0  6603aba5389c912a6b06549d  Panipuri   \n",
       "\n",
       "                                         description  \\\n",
       "0   Rinse coriander and mint leaves in water and ...   \n",
       "\n",
       "                                         ingredients vegNonVeg dishType  \\\n",
       "0  [{'ingredient_name': 'medium Onion', 'quantity...       Veg   Indian   \n",
       "\n",
       "    category                                          favorites  \n",
       "0  Fast food  [65d4c1b9e60cc7b970254148, 6605369a66779d49f72...  "
      ]
     },
     "execution_count": 261,
     "metadata": {},
     "output_type": "execute_result"
    }
   ],
   "source": [
    "recipes = pd.read_json(\"recipes.json\")\n",
    "recipes = recipes.drop(columns=[\"image\", \"owner\", \"__v\", \"createdAt\", \"updatedAt\", \"updatedAT\"])\n",
    "recipes.head(1)"
   ]
  },
  {
   "cell_type": "raw",
   "id": "e709f7f5-0014-4611-8e31-bec102e4df6b",
   "metadata": {},
   "source": [
    "# _id, title, description, ingredients, vegNonVeg, dishType, category, favorites"
   ]
  },
  {
   "cell_type": "code",
   "execution_count": 262,
   "id": "17f6173b-f1e6-41b3-bc55-2eb9a47fc76a",
   "metadata": {},
   "outputs": [
    {
     "name": "stdout",
     "output_type": "stream",
     "text": [
      "_id            0\n",
      "title          0\n",
      "description    0\n",
      "ingredients    0\n",
      "vegNonVeg      0\n",
      "dishType       0\n",
      "category       0\n",
      "favorites      0\n",
      "dtype: int64\n",
      "                        _id                title  \\\n",
      "0  6603aba5389c912a6b06549d             Panipuri   \n",
      "1  6603aeb9389c912a6b065539  Chocolate Ice cream   \n",
      "2  6603b054389c912a6b0655c2               Dabeli   \n",
      "\n",
      "                                         description  \\\n",
      "0   Rinse coriander and mint leaves in water and ...   \n",
      "1  Whip the cream till it is fluffy.\\r\\nCook coco...   \n",
      "2  1.firstly, in a pan take 1 tsp coriander seeds...   \n",
      "\n",
      "                                         ingredients vegNonVeg    dishType  \\\n",
      "0  [medium Onion, cup Sev, Mint Leaves, Chaat Mas...       Veg      Indian   \n",
      "1  [Cocoa powder, whipping cream (cups), Milk(in ...       Veg      Indian   \n",
      "2  [ aloo chana chat, dahi papdi chaat, chur chur...       Veg  Rajasthani   \n",
      "\n",
      "    category  favorites  \n",
      "0  Fast food          2  \n",
      "1  Ice cream          3  \n",
      "2  Fast food          2  \n"
     ]
    }
   ],
   "source": [
    "recipes[\"favorites\"] = recipes[\"favorites\"].apply(lambda x: len(x))\n",
    "# print(recipes.head(2))\n",
    "print(recipes.isnull().sum())\n",
    "recipes.iloc[4]\n",
    "\n",
    "def convert(obj):\n",
    "    L = []\n",
    "    for i in obj:\n",
    "       L.append(i['ingredient_name'])\n",
    "    return L\n",
    "\n",
    "recipes['ingredients'] = recipes['ingredients'].apply(convert)\n",
    "print(recipes.head(3))"
   ]
  },
  {
   "cell_type": "code",
   "execution_count": 263,
   "id": "d044ceeb-02e1-4033-bc56-e402aea91525",
   "metadata": {},
   "outputs": [
    {
     "data": {
      "text/html": [
       "<div>\n",
       "<style scoped>\n",
       "    .dataframe tbody tr th:only-of-type {\n",
       "        vertical-align: middle;\n",
       "    }\n",
       "\n",
       "    .dataframe tbody tr th {\n",
       "        vertical-align: top;\n",
       "    }\n",
       "\n",
       "    .dataframe thead th {\n",
       "        text-align: right;\n",
       "    }\n",
       "</style>\n",
       "<table border=\"1\" class=\"dataframe\">\n",
       "  <thead>\n",
       "    <tr style=\"text-align: right;\">\n",
       "      <th></th>\n",
       "      <th>_id</th>\n",
       "      <th>title</th>\n",
       "      <th>description</th>\n",
       "      <th>ingredients</th>\n",
       "      <th>vegNonVeg</th>\n",
       "      <th>dishType</th>\n",
       "      <th>category</th>\n",
       "      <th>favorites</th>\n",
       "    </tr>\n",
       "  </thead>\n",
       "  <tbody>\n",
       "    <tr>\n",
       "      <th>0</th>\n",
       "      <td>6603aba5389c912a6b06549d</td>\n",
       "      <td>Panipuri</td>\n",
       "      <td>[Rinse, coriander, and, mint, leaves, in, wate...</td>\n",
       "      <td>[mediumOnion, cupSev, MintLeaves, ChaatMasalaP...</td>\n",
       "      <td>Veg</td>\n",
       "      <td>Indian</td>\n",
       "      <td>Fastfood</td>\n",
       "      <td>2</td>\n",
       "    </tr>\n",
       "    <tr>\n",
       "      <th>1</th>\n",
       "      <td>6603aeb9389c912a6b065539</td>\n",
       "      <td>Chocolate Ice cream</td>\n",
       "      <td>[Whip, the, cream, till, it, is, fluffy., Cook...</td>\n",
       "      <td>[Cocoapowder, whippingcream(cups), Milk(incup)...</td>\n",
       "      <td>Veg</td>\n",
       "      <td>Indian</td>\n",
       "      <td>Icecream</td>\n",
       "      <td>3</td>\n",
       "    </tr>\n",
       "    <tr>\n",
       "      <th>2</th>\n",
       "      <td>6603b054389c912a6b0655c2</td>\n",
       "      <td>Dabeli</td>\n",
       "      <td>[1.firstly,, in, a, pan, take, 1, tsp, coriand...</td>\n",
       "      <td>[aloochanachat, dahipapdichaat, churchurnaan, ...</td>\n",
       "      <td>Veg</td>\n",
       "      <td>Rajasthani</td>\n",
       "      <td>Fastfood</td>\n",
       "      <td>2</td>\n",
       "    </tr>\n",
       "  </tbody>\n",
       "</table>\n",
       "</div>"
      ],
      "text/plain": [
       "                        _id                title  \\\n",
       "0  6603aba5389c912a6b06549d             Panipuri   \n",
       "1  6603aeb9389c912a6b065539  Chocolate Ice cream   \n",
       "2  6603b054389c912a6b0655c2               Dabeli   \n",
       "\n",
       "                                         description  \\\n",
       "0  [Rinse, coriander, and, mint, leaves, in, wate...   \n",
       "1  [Whip, the, cream, till, it, is, fluffy., Cook...   \n",
       "2  [1.firstly,, in, a, pan, take, 1, tsp, coriand...   \n",
       "\n",
       "                                         ingredients vegNonVeg    dishType  \\\n",
       "0  [mediumOnion, cupSev, MintLeaves, ChaatMasalaP...       Veg      Indian   \n",
       "1  [Cocoapowder, whippingcream(cups), Milk(incup)...       Veg      Indian   \n",
       "2  [aloochanachat, dahipapdichaat, churchurnaan, ...       Veg  Rajasthani   \n",
       "\n",
       "   category  favorites  \n",
       "0  Fastfood          2  \n",
       "1  Icecream          3  \n",
       "2  Fastfood          2  "
      ]
     },
     "execution_count": 263,
     "metadata": {},
     "output_type": "execute_result"
    }
   ],
   "source": [
    "recipes[\"description\"] = recipes[\"description\"].apply(lambda x : x.split())\n",
    "recipes[\"description\"] = recipes[\"description\"].apply(lambda x : [i.replace(\" \", \"\") for i in x])\n",
    "recipes[\"ingredients\"] = recipes[\"ingredients\"].apply(lambda x : [i.replace(\" \", \"\") for i in x])\n",
    "recipes[\"category\"] = recipes[\"category\"].apply(lambda x : x.replace(\" \", \"\"))\n",
    "recipes[\"dishType\"] = recipes[\"dishType\"].apply(lambda x : x.replace(\" \", \"\"))\n",
    "recipes.head(3)"
   ]
  },
  {
   "cell_type": "code",
   "execution_count": 255,
   "id": "40e3679c-ee7b-4e17-96fa-6fa84514bc66",
   "metadata": {},
   "outputs": [],
   "source": [
    "recipes['tags'] = recipes['description'] + recipes['ingredients']"
   ]
  },
  {
   "cell_type": "code",
   "execution_count": 256,
   "id": "93c0071b-73c9-4548-9a49-44acd28998d4",
   "metadata": {},
   "outputs": [
    {
     "data": {
      "text/html": [
       "<div>\n",
       "<style scoped>\n",
       "    .dataframe tbody tr th:only-of-type {\n",
       "        vertical-align: middle;\n",
       "    }\n",
       "\n",
       "    .dataframe tbody tr th {\n",
       "        vertical-align: top;\n",
       "    }\n",
       "\n",
       "    .dataframe thead th {\n",
       "        text-align: right;\n",
       "    }\n",
       "</style>\n",
       "<table border=\"1\" class=\"dataframe\">\n",
       "  <thead>\n",
       "    <tr style=\"text-align: right;\">\n",
       "      <th></th>\n",
       "      <th>_id</th>\n",
       "      <th>title</th>\n",
       "      <th>tags</th>\n",
       "      <th>dishType</th>\n",
       "      <th>category</th>\n",
       "      <th>vegNonVeg</th>\n",
       "      <th>favorites</th>\n",
       "    </tr>\n",
       "  </thead>\n",
       "  <tbody>\n",
       "    <tr>\n",
       "      <th>0</th>\n",
       "      <td>6603aba5389c912a6b06549d</td>\n",
       "      <td>Panipuri</td>\n",
       "      <td>[Rinse, coriander, and, mint, leaves, in, wate...</td>\n",
       "      <td>Indian</td>\n",
       "      <td>Fastfood</td>\n",
       "      <td>Veg</td>\n",
       "      <td>2</td>\n",
       "    </tr>\n",
       "    <tr>\n",
       "      <th>1</th>\n",
       "      <td>6603aeb9389c912a6b065539</td>\n",
       "      <td>Chocolate Ice cream</td>\n",
       "      <td>[Whip, the, cream, till, it, is, fluffy., Cook...</td>\n",
       "      <td>Indian</td>\n",
       "      <td>Icecream</td>\n",
       "      <td>Veg</td>\n",
       "      <td>3</td>\n",
       "    </tr>\n",
       "  </tbody>\n",
       "</table>\n",
       "</div>"
      ],
      "text/plain": [
       "                        _id                title  \\\n",
       "0  6603aba5389c912a6b06549d             Panipuri   \n",
       "1  6603aeb9389c912a6b065539  Chocolate Ice cream   \n",
       "\n",
       "                                                tags dishType  category  \\\n",
       "0  [Rinse, coriander, and, mint, leaves, in, wate...   Indian  Fastfood   \n",
       "1  [Whip, the, cream, till, it, is, fluffy., Cook...   Indian  Icecream   \n",
       "\n",
       "  vegNonVeg  favorites  \n",
       "0       Veg          2  \n",
       "1       Veg          3  "
      ]
     },
     "execution_count": 256,
     "metadata": {},
     "output_type": "execute_result"
    }
   ],
   "source": [
    "new_df = recipes[[\"_id\", \"title\", \"tags\", \"dishType\", \"category\", \"vegNonVeg\", \"favorites\"]]\n",
    "new_df.head(2)"
   ]
  },
  {
   "cell_type": "code",
   "execution_count": 264,
   "id": "52a6c300-3180-4fb5-bc62-fc405f499e33",
   "metadata": {},
   "outputs": [],
   "source": [
    "recipes[\"tags\"] = (recipes[\"title\"] + \" \" + \n",
    "                   recipes[\"description\"].apply(lambda x: ' '.join(x)) + \" \" + \n",
    "                   recipes[\"description\"].apply(lambda x: ' '.join(x)) + \" \" + \n",
    "                   recipes[\"vegNonVeg\"] + \" \" + \n",
    "                   recipes[\"dishType\"] + \" \" + \n",
    "                   recipes[\"category\"])"
   ]
  },
  {
   "cell_type": "code",
   "execution_count": 266,
   "id": "5803ee18-8746-4a9f-9e77-dd33e55dfe40",
   "metadata": {},
   "outputs": [],
   "source": [
    "recipes[\"tags\"] = recipes[\"tags\"].apply(lambda x : x.lower())"
   ]
  },
  {
   "cell_type": "code",
   "execution_count": 268,
   "id": "66552471-84ca-4cfd-88dd-0cb39a1739da",
   "metadata": {},
   "outputs": [],
   "source": [
    "recipes.drop(columns=[\"title\", \"description\", \"ingredients\", \"vegNonVeg\", \"dishType\", \"category\"], inplace=True)"
   ]
  },
  {
   "cell_type": "code",
   "execution_count": 269,
   "id": "89cb8384-8a0a-4aee-b0e4-5ce8d8daeeb6",
   "metadata": {},
   "outputs": [
    {
     "data": {
      "text/html": [
       "<div>\n",
       "<style scoped>\n",
       "    .dataframe tbody tr th:only-of-type {\n",
       "        vertical-align: middle;\n",
       "    }\n",
       "\n",
       "    .dataframe tbody tr th {\n",
       "        vertical-align: top;\n",
       "    }\n",
       "\n",
       "    .dataframe thead th {\n",
       "        text-align: right;\n",
       "    }\n",
       "</style>\n",
       "<table border=\"1\" class=\"dataframe\">\n",
       "  <thead>\n",
       "    <tr style=\"text-align: right;\">\n",
       "      <th></th>\n",
       "      <th>_id</th>\n",
       "      <th>favorites</th>\n",
       "      <th>tags</th>\n",
       "    </tr>\n",
       "  </thead>\n",
       "  <tbody>\n",
       "    <tr>\n",
       "      <th>0</th>\n",
       "      <td>6603aba5389c912a6b06549d</td>\n",
       "      <td>2</td>\n",
       "      <td>panipuri rinse coriander and mint leaves in wa...</td>\n",
       "    </tr>\n",
       "    <tr>\n",
       "      <th>1</th>\n",
       "      <td>6603aeb9389c912a6b065539</td>\n",
       "      <td>3</td>\n",
       "      <td>chocolate ice cream whip the cream till it is ...</td>\n",
       "    </tr>\n",
       "    <tr>\n",
       "      <th>2</th>\n",
       "      <td>6603b054389c912a6b0655c2</td>\n",
       "      <td>2</td>\n",
       "      <td>dabeli 1.firstly, in a pan take 1 tsp coriande...</td>\n",
       "    </tr>\n",
       "    <tr>\n",
       "      <th>3</th>\n",
       "      <td>6603b1d6389c912a6b0656dc</td>\n",
       "      <td>0</td>\n",
       "      <td>limbu _soda 1. place ice in a tall glass and f...</td>\n",
       "    </tr>\n",
       "    <tr>\n",
       "      <th>4</th>\n",
       "      <td>6603b408389c912a6b065879</td>\n",
       "      <td>0</td>\n",
       "      <td>pau bhaji  1. boil the veggies first and keep ...</td>\n",
       "    </tr>\n",
       "  </tbody>\n",
       "</table>\n",
       "</div>"
      ],
      "text/plain": [
       "                        _id  favorites  \\\n",
       "0  6603aba5389c912a6b06549d          2   \n",
       "1  6603aeb9389c912a6b065539          3   \n",
       "2  6603b054389c912a6b0655c2          2   \n",
       "3  6603b1d6389c912a6b0656dc          0   \n",
       "4  6603b408389c912a6b065879          0   \n",
       "\n",
       "                                                tags  \n",
       "0  panipuri rinse coriander and mint leaves in wa...  \n",
       "1  chocolate ice cream whip the cream till it is ...  \n",
       "2  dabeli 1.firstly, in a pan take 1 tsp coriande...  \n",
       "3  limbu _soda 1. place ice in a tall glass and f...  \n",
       "4  pau bhaji  1. boil the veggies first and keep ...  "
      ]
     },
     "execution_count": 269,
     "metadata": {},
     "output_type": "execute_result"
    }
   ],
   "source": [
    "recipes.head()"
   ]
  },
  {
   "cell_type": "code",
   "execution_count": 270,
   "id": "d52ab82c-f64a-4686-8660-ffdbad0d0b11",
   "metadata": {},
   "outputs": [],
   "source": [
    "from sklearn.feature_extraction.text import CountVectorizer\n",
    "cv = CountVectorizer(max_features = 5000, stop_words='english') # 5000 most frequent words"
   ]
  },
  {
   "cell_type": "code",
   "execution_count": 272,
   "id": "e27dfb4e-e058-4c9e-ac78-1f3ae0d9a686",
   "metadata": {},
   "outputs": [],
   "source": [
    "vectors = cv.fit_transform(recipes['tags']).toarray()"
   ]
  },
  {
   "cell_type": "code",
   "execution_count": 273,
   "id": "9b44f0cb-ee6d-46c9-b4e1-edd740cc899d",
   "metadata": {},
   "outputs": [
    {
     "name": "stdout",
     "output_type": "stream",
     "text": [
      "[[0 0 0 ... 0 0 0]\n",
      " [0 0 0 ... 0 0 0]\n",
      " [2 2 2 ... 0 0 0]\n",
      " ...\n",
      " [0 0 0 ... 0 0 0]\n",
      " [0 0 0 ... 0 0 0]\n",
      " [0 0 0 ... 0 0 0]]\n",
      "[ 0  0  0  0  0  0  0  0  0  0  0  0  0  0  0  0  0  0  0  0  0  0  0 10\n",
      "  4  0  0  0  0  0  0  0  0  0  0  0  0  0  0  0  0  0  0  0  0  0  0  0\n",
      "  0  0  0  0  0  0  0  0  0  0  0  0  0  0  0  0  0  0  0  0  0  2  0  0\n",
      "  0  0  2  4  0  6  0  0  0  0  0  0  0  0  0  0  0  0  0  0  0  0  0  0\n",
      "  0  0  0  0  0  0  4  0  4  0  0  0  0  0  0  0  0  4  0  0  0  0  0  0\n",
      "  4  0  0  0  0  0  0  0  0  0  0  0  0  0  0  0  0  0  0  0  0  0  0  0\n",
      "  0  0  0  8  0  0  0  0  0  0  0  0  2  0  0  0  2  2  2  0  0  0  0  0\n",
      "  0  0  0  2  2  0  0  0  0  0  0  0  0  0  0  0  0  0  0  2  0  0  0  0\n",
      "  0  0  0  0  0  0  0  0  0  0  0  0  0  0  2  2  0  0  0  0  0  0  0  0\n",
      "  0  2  0  0  0  0  1  0  0  0  0  0  0  0  0  0  2  0  0  0  0  0  0  0\n",
      "  0  0  0  0  0  0  0  0  0  0  0  0  0  0  0  0  0  0  0  0  0  0  0  0\n",
      "  2  0  2  0  0  0  0  0  0  0  0  0  0  0  0  0  0  2  0  2  2  4  0  0\n",
      "  0  0  0  0  0  0  0  0  2  0  0  2  0  0  0  0  0  0  0  0  0  0  0  0\n",
      "  0  2  1  2  0  0  0  0  0  0  0  0  0  0  2  4  0  0  0  2  0  0  0  0\n",
      "  0  0  0  0  6  0  0  0  0 10  4  0  0  0  0  0  0  6  0  0  0  0  0  0\n",
      "  0  0  0  0  2  0  0  0  0  8  0  2  0  0  0  2  0  0  0  0  0  2  0  0\n",
      "  6  0  0  8  0  0  0  0  0  0  0  0  0  0  0  0  0  0  0  0  0  0  0  0\n",
      "  2  0  0  0  0  0  0  0  0  0  0  0  0  6  1  0  0  0  0  0  0  2  0  0\n",
      "  0  0  0  0  0  0  0  0  0  0  0  2  0  0  0  0  0  0  0  0  0  2  2  0\n",
      "  8  0  0  0  0  0  2  0  0  2  0  0  6  0  0  0  0  0  0  4  0  0  0  0\n",
      "  2  0  0  0  2  0  0  0  0  0  4  0  0  0  0  2  0  0  0  2  0  0  0  0\n",
      "  6  0  0  0  0  0  0  0  0  0  0  0  0  0  0  0  0  0  0  0  4  0  0  0\n",
      "  0  2  0  0  0  0  0  0  0  0  0  0  0  0  0  0  0  0  0  0  0  0  2  0\n",
      "  2  0  0  0  0  0  2  0  0  0  0  0  0  0  0  0  0  0  6  0  0  2  0  0\n",
      "  0  0  0  0  0  0  0  0  2  0  0  0  0  0  0  0  2  2  0  2  0  0  0  0\n",
      "  0  0  0  0  2  4  0  0  0  0  0  0  2  0  0  0  0  0  0  2  0  0  2  0\n",
      "  0  0  0  0  0  0  2  0  0  0  0  0  0  2  0  0  0  0  0  0  0  0  2  0\n",
      "  0  0  0  0  1  0  0  0  0  0  0  0  0 10  0  0  0  0  0  0  0  0  0  0\n",
      "  0  0]\n"
     ]
    },
    {
     "data": {
      "text/plain": [
       "array(['10', '11', '12', '13', '14', '15', '16', '17', '18', '19', '1½',\n",
       "       '20', '200', '2½', '30', '450f', '50', '_soda', 'aamchur', 'able',\n",
       "       'absorb', 'according', 'achieved', 'add', 'added', 'adding',\n",
       "       'adjust', 'agent', 'al', 'american', 'anise', 'apart', 'appam',\n",
       "       'appe', 'applying', 'approx', 'approxx', 'arhar', 'aromas',\n",
       "       'aromatic', 'asafoetida', 'aside', 'authenticity', 'away', 'bake',\n",
       "       'baking', 'ball', 'balls', 'barfi', 'batches', 'batter', 'bay',\n",
       "       'beans', 'beat', 'beater', 'begin', 'bell', 'berries', 'besan',\n",
       "       'best', 'better', 'beverages', 'bfdbdf', 'bfdbfdbfbr', 'bhaji',\n",
       "       'binding', 'biscuits', 'bit', 'bite', 'black', 'blend', 'blender',\n",
       "       'boil', 'boiled', 'boiling', 'boondi', 'bottomed', 'bowl', 'bowls',\n",
       "       'bread', 'break', 'breakfast', 'briefly', 'bring', 'brinjal',\n",
       "       'brown', 'browned', 'brush', 'burfy', 'burn', 'butter', 'cabbage',\n",
       "       'cake', 'capsicum', 'cardamom', 'cardamoms', 'carefully', 'carom',\n",
       "       'carrot', 'carrots', 'celery', 'center', 'chaat', 'chakli',\n",
       "       'chana', 'changing', 'check', 'cheese', 'chewy', 'chiles', 'chili',\n",
       "       'chill', 'chilled', 'chilli', 'chinese', 'chocolate', 'chop',\n",
       "       'chopped', 'chow', 'chunks', 'chutney', 'cilantro', 'cinnamon',\n",
       "       'circle', 'circular', 'clove', 'cocoa', 'coconut', 'colander',\n",
       "       'cold', 'color', 'combine', 'combined', 'come', 'comes',\n",
       "       'commercial', 'completely', 'consistency', 'continue',\n",
       "       'continuously', 'cook', 'cooked', 'cookie', 'cookies', 'cooking',\n",
       "       'cool', 'cooling', 'coriander', 'corn', 'couple', 'cover', 'crack',\n",
       "       'cream', 'creamy', 'create', 'crisp', 'crispy', 'crumble',\n",
       "       'crumbly', 'crunch', 'cumin', 'cup', 'cups', 'curry',\n",
       "       'customizable', 'cut', 'cutter', 'cutting', 'dabeli', 'dal',\n",
       "       'damp', 'dark', 'date', 'decorate', 'decrease', 'deep', 'dense',\n",
       "       'dente', 'depending', 'description', 'desire', 'desired',\n",
       "       'devoured', 'dfv', 'diamond', 'diced', 'different', 'dip',\n",
       "       'direction', 'directions', 'directly', 'disc', 'discs', 'dish',\n",
       "       'dissolve', 'divide', 'does', 'doesn', 'doing', 'don', 'doneness',\n",
       "       'dosa', 'double', 'dough', 'drain', 'dried', 'drizzle', 'drop',\n",
       "       'dry', 'earlier', 'easiest', 'easily', 'edge', 'edges', 'egg',\n",
       "       'electric', 'embossed', 'enjoy', 'equal', 'essence', 'evenly',\n",
       "       'extra', 'fastfood', 'fat', 'fennel', 'fenugreek', 'ferment',\n",
       "       'feta', 'filling', 'finally', 'fine', 'finely', 'finger',\n",
       "       'fingertips', 'firm', 'firstly', 'flame', 'flat', 'flour',\n",
       "       'floured', 'flours', 'fluffy', 'follow', 'following', 'food',\n",
       "       'form', 'forming', 'free', 'freeze', 'freezing', 'french', 'fresh',\n",
       "       'fridge', 'fried', 'frost', 'frosting', 'fry', 'frying', 'fvfv',\n",
       "       'garlic', 'garnish', 'gather', 'gathiya', 'generous', 'gently',\n",
       "       'ghee', 'ginger', 'given', 'glass', 'gluten', 'goes', 'golden',\n",
       "       'good', 'gradually', 'gram', 'grams', 'grate', 'grated', 'grater',\n",
       "       'grease', 'greased', 'green', 'grid', 'grind', 'grinder',\n",
       "       'grinding', 'gulab', 'half', 'hand', 'handles', 'hands', 'hard',\n",
       "       'heat', 'help', 'high', 'hing', 'hole', 'homemade', 'hot', 'hour',\n",
       "       'hours', 'hydrabadi', 'ice', 'icecream', 'icecreamcake', 'idle',\n",
       "       'idli', 'idlis', 'immediately', 'immersion', 'inch', 'increase',\n",
       "       'increased', 'index', 'indian', 'ingredients', 'inside', 'instant',\n",
       "       'instructions', 'intensity', 'italian', 'jaggery', 'jammukashmiri',\n",
       "       'jammuns', 'jamun', 'jamuns', 'jar', 'juice', 'juices', 'just',\n",
       "       'kadai', 'kala', 'kashmiri', 'kasuri', 'kerala', 'key', 'kind',\n",
       "       'kitchen', 'knead', 'ladyfinger', 'large', 'later', 'layer',\n",
       "       'leaf', 'leave', 'leaves', 'lemon', 'lentil', 'let', 'lid', 'lift',\n",
       "       'light', 'lightly', 'like', 'limbu', 'lime', 'lined', 'little',\n",
       "       'longer', 'loosen', 'low', 'luck', 'lumps', 'maida', 'make',\n",
       "       'maker', 'making', 'manchurian', 'manufacturer', 'masala', 'mash',\n",
       "       'mashed', 'masher', 'mawa', 'means', 'medium', 'mein', 'melts',\n",
       "       'mentioned', 'methi', 'mexican', 'middle', 'milk', 'milkmaid',\n",
       "       'mint', 'minute', 'minutes', 'mix', 'mixed', 'mixi', 'mixing',\n",
       "       'mixture', 'moisture', 'mozzarella', 'murukku', 'mustard', 'namak',\n",
       "       'napkin', 'near', 'need', 'needs', 'nestlé', 'neutral', 'nicely',\n",
       "       'non', 'noodles', 'occasionally', 'oil', 'onion', 'onions', 'open',\n",
       "       'optional', 'order', 'oreo', 'outside', 'overnight', 'package',\n",
       "       'palm', 'palms', 'pan', 'pancake', 'pani', 'panipuri', 'paper',\n",
       "       'parchment', 'parmesan', 'parts', 'pasta', 'pastas', 'paste',\n",
       "       'pattern', 'patterned', 'pau', 'pav', 'peanut', 'pepper',\n",
       "       'perforated', 'periodically', 'picture', 'piece', 'pin', 'pinch',\n",
       "       'pizzq', 'place', 'plain', 'plastic', 'plate', 'pliable', 'pod',\n",
       "       'pomegranate', 'portion', 'possible', 'pot', 'potato', 'potatoes',\n",
       "       'pour', 'powder', 'prepare', 'prepared', 'press', 'pressing',\n",
       "       'pressure', 'prevent', 'process', 'processor', 'properly', 'pulp',\n",
       "       'puree', 'puri', 'purpose', 'rack', 'rajasthani', 'ramen', 'raw',\n",
       "       'reaches', 'ready', 'readymade', 'really', 'recipe', 'recipes',\n",
       "       'red', 'reduce', 'refrigerate', 'refrigerated', 'refrigerator',\n",
       "       'regular', 'release', 'remaining', 'remove', 'repeat', 'required',\n",
       "       'requires', 'rest', 'rested', 'rice', 'rinse', 'roast', 'roll',\n",
       "       'rolling', 'room', 'roti', 'round', 'rounds', 'saffron', 'salt',\n",
       "       'sambar', 'sambhar', 'saturated', 'sauce', 'saucepan', 'sauté',\n",
       "       'scallions', 'scrape', 'scraps', 'seasonings', 'second', 'seconds',\n",
       "       'secs', 'seed', 'seeds', 'self', 'separate', 'serve', 'served',\n",
       "       'serving', 'sesame', 'set', 'sets', 'settle', 'sev', 'shake',\n",
       "       'shape', 'sheet', 'shred', 'shredded', 'shrink', 'sieve', 'sifted',\n",
       "       'simmer', 'single', 'sit', 'size', 'sizzle', 'skillet', 'skip',\n",
       "       'slice', 'sliced', 'slight', 'slightly', 'slotted', 'small',\n",
       "       'smell', 'smooth', 'snacks', 'soak', 'soaking', 'soba', 'soda',\n",
       "       'soft', 'softened', 'softer', 'solids', 'southindian', 'spacing',\n",
       "       'spatula', 'spiced', 'spices', 'spiral', 'splash', 'splatter',\n",
       "       'spoon', 'spread', 'spring', 'sprinkle', 'star', 'starch', 'start',\n",
       "       'starting', 'steadily', 'step', 'stew', 'stick', 'sticking',\n",
       "       'sticky', 'stir', 'stirring', 'stopping', 'strainer', 'strands',\n",
       "       'strawberries', 'strawberry', 'strawbery', 'stuff', 'stuffing',\n",
       "       'style', 'sugar', 'sure', 'surface', 'surfaced', 'sweets', 'syrup',\n",
       "       'tablespoon', 'tablespoons', 'tall', 'tamarind', 'taste',\n",
       "       'tasting', 'tasty', 'tbsp', 'teaspoon', 'teaspoons', 'temper',\n",
       "       'temperature', 'tempering', 'texture', 'textured', 'thing',\n",
       "       'thinly', 'thoroughly', 'thumb', 'tighten', 'till', 'time',\n",
       "       'times', 'toasted', 'tomato', 'tomatoes', 'toss', 'tossing',\n",
       "       'towels', 'transfer', 'transferring', 'translucent', 'tray', 'tsp',\n",
       "       'turmeric', 'turn', 'turning', 'turns', 'typically', 'udon',\n",
       "       'uncooked', 'unwrap', 'upside', 'upward', 'urad', 'use', 'used',\n",
       "       'using', 'uttarpredesh', 'vanilla', 'vdfvdf', 'veg', 'vegetable',\n",
       "       'vegetables', 'veggie', 'veggies', 'version', 'vf', 'want', 'warm',\n",
       "       'water', 'way', 'wet', 'wheat', 'whip', 'whipped', 'whisk',\n",
       "       'white', 'whites', 'wok', 'working', 'wrap', 'æbleskiver'],\n",
       "      dtype=object)"
      ]
     },
     "execution_count": 273,
     "metadata": {},
     "output_type": "execute_result"
    }
   ],
   "source": [
    "print(vectors)\n",
    "print(vectors[0])\n",
    "cv.get_feature_names_out() # most frequent names"
   ]
  },
  {
   "cell_type": "code",
   "execution_count": 182,
   "id": "389423de-4aec-407a-9c3b-b079c3bce308",
   "metadata": {},
   "outputs": [
    {
     "name": "stdout",
     "output_type": "stream",
     "text": [
      "Requirement already satisfied: nltk in e:\\python\\lib\\site-packages (3.8.1)\n",
      "Requirement already satisfied: click in e:\\python\\lib\\site-packages (from nltk) (8.1.7)\n",
      "Requirement already satisfied: joblib in e:\\python\\lib\\site-packages (from nltk) (1.3.2)\n",
      "Requirement already satisfied: regex>=2021.8.3 in e:\\python\\lib\\site-packages (from nltk) (2023.12.25)\n",
      "Requirement already satisfied: tqdm in e:\\python\\lib\\site-packages (from nltk) (4.66.2)\n",
      "Requirement already satisfied: colorama in e:\\python\\lib\\site-packages (from click->nltk) (0.4.6)\n"
     ]
    }
   ],
   "source": [
    "# turns, turning, turn\n",
    "!pip install nltk"
   ]
  },
  {
   "cell_type": "code",
   "execution_count": 274,
   "id": "e249d529-c9a7-45dc-8569-e7dfd077e36c",
   "metadata": {},
   "outputs": [],
   "source": [
    "from nltk.stem.porter import PorterStemmer\n",
    "ps = PorterStemmer()\n"
   ]
  },
  {
   "cell_type": "code",
   "execution_count": 276,
   "id": "fa7f2a05-46c4-41a3-82c2-a221460d9724",
   "metadata": {},
   "outputs": [],
   "source": [
    "def stem(text):\n",
    "    y = []\n",
    "    for i in text.split():\n",
    "        y.append(ps.stem(i))\n",
    "    return \" \".join(y)\n",
    "recipes[\"tags\"] = recipes[\"tags\"].apply(stem)"
   ]
  },
  {
   "cell_type": "code",
   "execution_count": 277,
   "id": "accc3bd8-ab04-49bb-8c7f-cf13c4b3e90c",
   "metadata": {},
   "outputs": [
    {
     "data": {
      "text/plain": [
       "['Whip',\n",
       " 'the',\n",
       " 'cream',\n",
       " 'till',\n",
       " 'it',\n",
       " 'is',\n",
       " 'fluffy.',\n",
       " 'Cook',\n",
       " 'cocoa',\n",
       " 'powder',\n",
       " 'in',\n",
       " 'milk',\n",
       " 'till',\n",
       " 'mixed',\n",
       " 'completely',\n",
       " 'into',\n",
       " 'a',\n",
       " 'smooth',\n",
       " 'consistency.',\n",
       " 'Add',\n",
       " 'Nestlé',\n",
       " 'MILKMAID,',\n",
       " 'cooked',\n",
       " 'cocoa',\n",
       " 'powder,',\n",
       " 'vanilla',\n",
       " 'essence,',\n",
       " 'whipped',\n",
       " 'cream',\n",
       " '&',\n",
       " 'mix',\n",
       " 'well.',\n",
       " 'Pour',\n",
       " 'into',\n",
       " 'a',\n",
       " 'freezing',\n",
       " 'tray',\n",
       " 'and',\n",
       " 'freeze',\n",
       " 'till',\n",
       " 'half',\n",
       " 'set.',\n",
       " 'Remove',\n",
       " 'and',\n",
       " 'beat',\n",
       " 'with',\n",
       " 'a',\n",
       " 'whisk',\n",
       " 'or',\n",
       " 'electric',\n",
       " 'beater',\n",
       " 'until',\n",
       " 'smooth.',\n",
       " 'Doing',\n",
       " 'so',\n",
       " 'will',\n",
       " 'help',\n",
       " 'keep',\n",
       " 'the',\n",
       " 'texture',\n",
       " 'of',\n",
       " 'the',\n",
       " 'ice',\n",
       " 'cream',\n",
       " 'soft',\n",
       " 'and',\n",
       " 'creamy',\n",
       " 'while',\n",
       " 'it',\n",
       " 'sets.',\n",
       " 'our',\n",
       " 'back',\n",
       " 'into',\n",
       " 'tray',\n",
       " 'and',\n",
       " 'freeze',\n",
       " 'till',\n",
       " 'well',\n",
       " 'set.',\n",
       " 'Cocoapowder',\n",
       " 'whippingcream(cups)',\n",
       " 'Milk(incup)',\n",
       " 'brownsugar(incup)']"
      ]
     },
     "execution_count": 277,
     "metadata": {},
     "output_type": "execute_result"
    }
   ],
   "source": [
    "new_df[\"tags\"][1]"
   ]
  },
  {
   "cell_type": "code",
   "execution_count": 278,
   "id": "5ff66b57-ec31-439e-8b49-545561ea500a",
   "metadata": {},
   "outputs": [],
   "source": [
    "from sklearn.feature_extraction.text import CountVectorizer\n",
    "cv = CountVectorizer(max_features = 5000, stop_words='english') # 5000 most frequent words"
   ]
  },
  {
   "cell_type": "code",
   "execution_count": 279,
   "id": "38f11207-e8e8-46fc-8724-ccef00745d19",
   "metadata": {},
   "outputs": [],
   "source": [
    "vectors = cv.fit_transform(recipes['tags']).toarray()"
   ]
  },
  {
   "cell_type": "code",
   "execution_count": 280,
   "id": "e83eacf3-e3f5-4d6a-822a-0bc7522b19da",
   "metadata": {},
   "outputs": [
    {
     "name": "stdout",
     "output_type": "stream",
     "text": [
      "[[0 0 0 ... 0 0 0]\n",
      " [0 0 0 ... 0 0 0]\n",
      " [2 2 2 ... 0 0 0]\n",
      " ...\n",
      " [0 0 0 ... 0 0 0]\n",
      " [0 0 0 ... 0 0 0]\n",
      " [0 0 0 ... 0 0 0]]\n",
      "[ 0  0  0  0  0  0  0  0  0  0  0  0  0  0  0  0  0  0  0  0  0  0  0  0\n",
      "  4 10  0  0  0  0  0  0  0  0  0  0  0  0  0  0  0  0  0  0  0  0  0  0\n",
      "  0  0  0  0  0  0  0  0  0  0  0  2  0  0  0  0  0  0  0  0  0  0  0  0\n",
      "  0  0  2  0  0  2  0  4  6  0  0  0  0  0  0  0  0  0  0  0  0  0  0  0\n",
      "  0  0  0  0  0  0  0  4  0  4  0  0  0  0  0  0  0  0  0  4  0  0  0  0\n",
      "  0  0  4  0  0  0  0  0  0  0  0  0  0  0  0  0  0  0  0  0  0  0  0  0\n",
      "  0  0  0  0  0  8  0  0  0  0  0  0  0  0  0  2  0  0  0  2  4  0  0  0\n",
      "  0  0  0  0  0  2  2  0  0  0  0  0  0  0  0  0  0  0  0  0  0  0  2  0\n",
      "  0  0  0  0  0  0  0  0  0  0  0  0  0  0  2  2  0  0  0  0  0  0  0  2\n",
      "  0  0  0  0  0  1  0  0  0  0  0  0  0  0  2  0  0  0  0  0  0  0  0  0\n",
      "  0  0  0  0  0  0  0  0  0  0  0  0  0  0  0  0  0  2  0  2  0  0  0  0\n",
      "  0  0  0  0  0  0  0  0  2  0  4  2  2  0  0  0  0  0  0  0  0  0  0  0\n",
      "  2  0  0  2  0  0  0  0  0  0  0  0  0  0  0  0  0  2  1  2  0  0  0  0\n",
      "  0  0  0  0  0  0  0  2  4  0  0  0  0  2  0  0  0  0  0  0  0  0  6  0\n",
      "  0  0  6  4  4  0  0  0  0  0  0  0  6  0  0  0  0  0  0  0  0  0  0  2\n",
      "  0  0  0  8  2  0  0  0  2  0  0  0  0  0  2  0  0  6  0  0  0  8  0  0\n",
      "  0  0  0  0  0  0  0  0  0  0  0  0  0  0  0  0  0  0  2  0  2  0  0  0\n",
      "  0  0  0  0  0  0  0  6  1  0  0  0  0  2  0  0  0  0  0  0  0  0  0  0\n",
      "  0  0  0  2  0  0  0  0  0  0  0  0  0  0  4  0  8  0  0  0  0  2  0  0\n",
      "  2  0  0  6  0  0  0  0  0  0  0  4  0  0  0  0  2  0  2  0  0  0  0  0\n",
      "  0  0  4  0  0  0  2  0  0  0  2  0  0  0  6  0  0  0  0  0  0  0  0  0\n",
      "  0  0  0  0  0  0  0  0  2  0  2  0  0  0  0  2  0  0  0  0  0  0  0  0\n",
      "  0  0  0  0  0  0  0  0  0  0  0  2  0  2  0  0  0  0  2  0  0  0  0  0\n",
      "  0  0  0  0  0  0  6  0  0  2  0  0  0  0  0  0  0  0  0  2  0  0  0  0\n",
      "  0  0  2  2  0  2  0  0  0  0  0  0  0  2  4  0  0  0  0  0  0  2  0  0\n",
      "  0  0  0  0  2  0  0  2  0  0  2  0  0  0  0  2  0  0  0  0  0  2  0  0\n",
      "  0  0  0  0  0  2  0  0  0  1  0  0  0  0  0  0  0  0  0 10  0  0  0  0\n",
      "  0  0  0  0  0  0  0]\n"
     ]
    },
    {
     "data": {
      "text/plain": [
       "array(['10', '11', '12', '13', '14', '15', '16', '17', '18', '19', '1½',\n",
       "       '20', '200', '2½', '30', '450f', '50', '_soda', 'aamchur', 'abl',\n",
       "       'abov', 'absorb', 'accord', 'achieved', 'ad', 'add', 'adjust',\n",
       "       'agent', 'al', 'american', 'ani', 'anise', 'anoth', 'apart',\n",
       "       'appam', 'appe', 'appli', 'approx', 'approxx', 'arhar', 'aroma',\n",
       "       'aromatic', 'asafoetida', 'asid', 'aside', 'authent', 'away',\n",
       "       'bake', 'ball', 'balls', 'barfi', 'batch', 'batter', 'bay', 'bean',\n",
       "       'beat', 'beater', 'becaus', 'becom', 'befor', 'begin', 'bell',\n",
       "       'berri', 'besan', 'best', 'better', 'beverag', 'bfdbdf',\n",
       "       'bfdbfdbfbr', 'bhaji', 'bind', 'biscuit', 'bit', 'bite', 'black',\n",
       "       'blend', 'blender', 'boil', 'boiling', 'boondi', 'bowl', 'bread',\n",
       "       'break', 'breakfast', 'briefly', 'bring', 'brinjal', 'brown',\n",
       "       'brush', 'burfi', 'burn', 'butter', 'cabbage', 'cake', 'capsicum',\n",
       "       'cardamom', 'care', 'carom', 'carrot', 'carrots', 'celeri',\n",
       "       'celery', 'center', 'chaat', 'chakli', 'chana', 'chang', 'check',\n",
       "       'chees', 'cheese', 'chewi', 'chiles', 'chili', 'chill', 'chilled',\n",
       "       'chilli', 'chines', 'chocol', 'chop', 'chopped', 'chow', 'chunk',\n",
       "       'chutney', 'cilantro', 'cinnamon', 'circl', 'circular', 'clove',\n",
       "       'cocoa', 'coconut', 'coland', 'colander', 'cold', 'color',\n",
       "       'combin', 'combined', 'come', 'commerci', 'complet', 'completely',\n",
       "       'consist', 'consistency', 'continu', 'cook', 'cooked', 'cooki',\n",
       "       'cookies', 'cooking', 'cool', 'coriand', 'coriander', 'corn',\n",
       "       'coupl', 'cover', 'crack', 'cream', 'creami', 'creat', 'crisp',\n",
       "       'crispi', 'crumbl', 'crumbly', 'crunch', 'cumin', 'cup', 'curri',\n",
       "       'customiz', 'cut', 'cutter', 'cutting', 'dabe', 'dal', 'damp',\n",
       "       'dark', 'date', 'decor', 'decreas', 'deep', 'dens', 'dent',\n",
       "       'dente', 'depend', 'descript', 'desire', 'desired', 'devour',\n",
       "       'dfv', 'diamond', 'dice', 'differ', 'dip', 'direct', 'directli',\n",
       "       'disc', 'discs', 'dish', 'dissolv', 'divid', 'doe', 'doesn', 'don',\n",
       "       'dosa', 'doubl', 'dough', 'drain', 'dri', 'drizzl', 'drop',\n",
       "       'earlier', 'easiest', 'easili', 'edg', 'egg', 'electr', 'emboss',\n",
       "       'enjoy', 'equal', 'essence', 'evenli', 'everyth', 'extra',\n",
       "       'fastfood', 'fat', 'fennel', 'fenugreek', 'ferment', 'feta',\n",
       "       'filling', 'finally', 'fine', 'finger', 'fingertip', 'firm',\n",
       "       'firstly', 'flame', 'flat', 'flour', 'fluffi', 'fluffy', 'follow',\n",
       "       'food', 'form', 'fre', 'freez', 'french', 'fresh', 'fri', 'fridg',\n",
       "       'frost', 'fry', 'frying', 'fvfv', 'garlic', 'garnish', 'gather',\n",
       "       'gathiya', 'gener', 'gentli', 'ghee', 'ginger', 'given', 'glass',\n",
       "       'gluten', 'goe', 'golden', 'good', 'gradual', 'gram', 'grams',\n",
       "       'grate', 'grater', 'greas', 'green', 'grid', 'grind', 'grinder',\n",
       "       'grinding', 'gulab', 'ha', 'half', 'hand', 'handl', 'hands',\n",
       "       'hard', 'heat', 'help', 'high', 'hing', 'hole', 'homemad', 'hot',\n",
       "       'hour', 'hours', 'hydrabadi', 'ice', 'icecream', 'icecreamcak',\n",
       "       'idl', 'idli', 'idlis', 'immedi', 'immediately', 'immers', 'inch',\n",
       "       'increas', 'index', 'indian', 'ingredi', 'insid', 'inside',\n",
       "       'instant', 'instructions', 'intens', 'italian', 'jaggeri',\n",
       "       'jammukashmiri', 'jammun', 'jamun', 'jamuns', 'jar', 'juic',\n",
       "       'juice', 'juices', 'just', 'kadai', 'kala', 'kashmiri', 'kasuri',\n",
       "       'kerala', 'key', 'kind', 'kitchen', 'knead', 'ladyfinger', 'larg',\n",
       "       'later', 'layer', 'leaf', 'leav', 'leaves', 'lemon', 'lentil',\n",
       "       'let', 'lid', 'lift', 'light', 'lightli', 'lik', 'like', 'limbu',\n",
       "       'lime', 'line', 'littl', 'longer', 'loosen', 'low', 'luck',\n",
       "       'lumps', 'maida', 'make', 'maker', 'manchurian', 'manufacturer',\n",
       "       'masala', 'mash', 'masher', 'mawa', 'mean', 'medium', 'mein',\n",
       "       'melt', 'mentioned', 'methi', 'mexican', 'middl', 'milk',\n",
       "       'milkmaid', 'mint', 'minut', 'minute', 'minutes', 'mix', 'mixi',\n",
       "       'mixtur', 'mixture', 'moistur', 'mozzarella', 'murukku', 'mustard',\n",
       "       'namak', 'napkin', 'near', 'need', 'nestlé', 'neutral', 'nicely',\n",
       "       'non', 'noodl', 'noodles', 'occasion', 'oil', 'onc', 'onion',\n",
       "       'onions', 'onli', 'open', 'optional', 'order', 'oreo', 'outsid',\n",
       "       'overnight', 'packag', 'palm', 'pan', 'pancak', 'pani', 'panipuri',\n",
       "       'paper', 'parchment', 'parmesan', 'parts', 'past', 'pasta',\n",
       "       'pattern', 'pau', 'pav', 'peanut', 'pepper', 'perfor', 'period',\n",
       "       'picture', 'piec', 'pin', 'pinch', 'pizzq', 'place', 'plain',\n",
       "       'plastic', 'plate', 'pliable', 'pod', 'pomegran', 'portion',\n",
       "       'possibl', 'possible', 'pot', 'potato', 'pour', 'powder', 'prepar',\n",
       "       'prepared', 'press', 'pressur', 'prevent', 'process', 'processor',\n",
       "       'properly', 'pulp', 'puree', 'puri', 'purpos', 'rack',\n",
       "       'rajasthani', 'ramen', 'raw', 'reach', 'readi', 'ready',\n",
       "       'readymad', 'realli', 'recip', 'recipe', 'red', 'reduc',\n",
       "       'refriger', 'refrigerate', 'regular', 'releas', 'remain', 'remov',\n",
       "       'repeat', 'requir', 'required', 'rest', 'rested', 'rice', 'rins',\n",
       "       'roast', 'rol', 'roll', 'room', 'roti', 'round', 'saffron', 'salt',\n",
       "       'sambar', 'sambhar', 'saturated', 'sauc', 'saucepan', 'sauté',\n",
       "       'scallions', 'scrap', 'scrape', 'season', 'second', 'seconds',\n",
       "       'secs', 'seed', 'seeds', 'self', 'separ', 'serv', 'serve',\n",
       "       'serving', 'sesam', 'set', 'sets', 'settl', 'sev', 'shake',\n",
       "       'shape', 'sheet', 'shred', 'shrink', 'sieve', 'sift', 'simmer',\n",
       "       'singl', 'sit', 'size', 'sizzle', 'skillet', 'skip', 'slice',\n",
       "       'sliced', 'slight', 'slightli', 'slot', 'small', 'smell', 'smooth',\n",
       "       'snack', 'soak', 'soba', 'soda', 'soft', 'soften', 'softened',\n",
       "       'softer', 'solids', 'southindian', 'space', 'spatula', 'spice',\n",
       "       'spiral', 'splash', 'splatter', 'spoon', 'spread', 'spring',\n",
       "       'sprinkl', 'star', 'starch', 'start', 'steadili', 'step', 'stew',\n",
       "       'stick', 'sticking', 'sticky', 'stir', 'stop', 'strainer',\n",
       "       'strand', 'strawberi', 'strawberri', 'strawberries', 'stuff',\n",
       "       'stuffing', 'style', 'sugar', 'sure', 'surfac', 'surface', 'sweet',\n",
       "       'syrup', 'tablespoon', 'tall', 'tamarind', 'tast', 'taste',\n",
       "       'tasti', 'tbsp', 'teaspoon', 'temper', 'temperatur', 'temperature',\n",
       "       'textur', 'texture', 'thi', 'thing', 'thinli', 'thoroughli',\n",
       "       'thumb', 'tighten', 'till', 'time', 'times', 'toast', 'togeth',\n",
       "       'tomato', 'toss', 'tossing', 'towels', 'transfer', 'translucent',\n",
       "       'tray', 'tsp', 'turmer', 'turmeric', 'turn', 'typic', 'udon',\n",
       "       'uncook', 'unwrap', 'upsid', 'upward', 'urad', 'use',\n",
       "       'uttarpredesh', 'vanilla', 'vdfvdf', 'veg', 'veget', 'vegetables',\n",
       "       'veggi', 'veggies', 'veri', 'version', 'vf', 'want', 'warm',\n",
       "       'water', 'way', 'wet', 'wheat', 'whip', 'whisk', 'white', 'whites',\n",
       "       'wok', 'work', 'wrap', 'æbleskiv'], dtype=object)"
      ]
     },
     "execution_count": 280,
     "metadata": {},
     "output_type": "execute_result"
    }
   ],
   "source": [
    "print(vectors)\n",
    "print(vectors[0])\n",
    "cv.get_feature_names_out() # most frequent names"
   ]
  },
  {
   "cell_type": "code",
   "execution_count": 281,
   "id": "ac7fc299-96a9-4369-9354-2796709a8fc0",
   "metadata": {},
   "outputs": [],
   "source": [
    "from sklearn.metrics.pairwise import cosine_similarity"
   ]
  },
  {
   "cell_type": "code",
   "execution_count": 282,
   "id": "985eaf53-f658-4149-8684-56752dda1ab3",
   "metadata": {},
   "outputs": [],
   "source": [
    "similarity = cosine_similarity(vectors)"
   ]
  },
  {
   "cell_type": "code",
   "execution_count": 283,
   "id": "2ca42c6d-7e6b-4683-8d10-7f0b64958c2d",
   "metadata": {},
   "outputs": [
    {
     "data": {
      "text/plain": [
       "(19, 19)"
      ]
     },
     "execution_count": 283,
     "metadata": {},
     "output_type": "execute_result"
    }
   ],
   "source": [
    "similarity.shape"
   ]
  },
  {
   "cell_type": "code",
   "execution_count": 284,
   "id": "15eb636a-80e1-4c43-9ee1-78ef2df218a3",
   "metadata": {},
   "outputs": [
    {
     "data": {
      "text/plain": [
       "array([1.        , 0.1434442 , 0.27439017, 0.2780404 , 0.40627775,\n",
       "       0.00817151, 0.18455106, 0.28054938, 0.22691212, 0.15263395,\n",
       "       0.21763035, 0.32971944, 0.16276482, 0.0553545 , 0.23043821,\n",
       "       0.01000801, 0.02001602, 0.02001602, 0.01000801])"
      ]
     },
     "execution_count": 284,
     "metadata": {},
     "output_type": "execute_result"
    }
   ],
   "source": [
    "similarity[0]"
   ]
  },
  {
   "cell_type": "code",
   "execution_count": 285,
   "id": "1c4c5a68-9522-448d-9885-e341499988b3",
   "metadata": {},
   "outputs": [
    {
     "data": {
      "text/plain": [
       "[(1, 1.0),\n",
       " (13, 0.319748523210321),\n",
       " (4, 0.1832799783635835),\n",
       " (10, 0.16644796441355608),\n",
       " (0, 0.14344419642495887),\n",
       " (12, 0.12022288792384195),\n",
       " (14, 0.10880055640451852),\n",
       " (11, 0.09722733743135012),\n",
       " (8, 0.09402173859100364),\n",
       " (3, 0.0858424882215964),\n",
       " (6, 0.08134065697487139),\n",
       " (2, 0.07980532478891081),\n",
       " (9, 0.06465372136362804),\n",
       " (7, 0.06166258370686195),\n",
       " (15, 0.03656362120635653),\n",
       " (17, 0.03656362120635653),\n",
       " (16, 0.018281810603178263),\n",
       " (18, 0.018281810603178263),\n",
       " (5, 0.014927035850663305)]"
      ]
     },
     "execution_count": 285,
     "metadata": {},
     "output_type": "execute_result"
    }
   ],
   "source": [
    "sorted(list(enumerate(similarity[1])), reverse=True, key=lambda x:x[1])"
   ]
  },
  {
   "cell_type": "code",
   "execution_count": 293,
   "id": "e15adab7-9ad2-4d8a-a6df-13f923b39983",
   "metadata": {},
   "outputs": [],
   "source": [
    "list(enumerate(similarity[0]))\n",
    "def recommend(movie_id):\n",
    "    movie_index = recipes[recipes[\"_id\"] == movie_id].index[0]\n",
    "    distances = similarity[movie_index]\n",
    "    movies_lists = sorted(list(enumerate(distances)), reverse=True, key=lambda x:x[1])[1: 6]\n",
    "    for i in movies_lists:\n",
    "        print(recipes.iloc[i[0]]._id)"
   ]
  },
  {
   "cell_type": "code",
   "execution_count": 294,
   "id": "1ee86e21-b37c-4249-8c3d-78bbc59a138e",
   "metadata": {},
   "outputs": [
    {
     "name": "stdout",
     "output_type": "stream",
     "text": [
      "6603aba5389c912a6b06549d\n",
      "6603b408389c912a6b065879\n",
      "66042d3a71b99eea588e0e0b\n",
      "660435b13563cf7d2fa13a64\n",
      "66042eba71b99eea588e0e16\n"
     ]
    }
   ],
   "source": [
    "recommend(\"6603b054389c912a6b0655c2\")"
   ]
  },
  {
   "cell_type": "code",
   "execution_count": 201,
   "id": "3d423ea3-8269-40da-821e-514c0af87453",
   "metadata": {},
   "outputs": [
    {
     "data": {
      "text/plain": [
       "Index([2], dtype='int64')"
      ]
     },
     "execution_count": 201,
     "metadata": {},
     "output_type": "execute_result"
    }
   ],
   "source": [
    "new_df[new_df[\"title\"] == \"Dabeli\"].index"
   ]
  }
 ],
 "metadata": {
  "kernelspec": {
   "display_name": "Python 3 (ipykernel)",
   "language": "python",
   "name": "python3"
  },
  "language_info": {
   "codemirror_mode": {
    "name": "ipython",
    "version": 3
   },
   "file_extension": ".py",
   "mimetype": "text/x-python",
   "name": "python",
   "nbconvert_exporter": "python",
   "pygments_lexer": "ipython3",
   "version": "3.12.0"
  }
 },
 "nbformat": 4,
 "nbformat_minor": 5
}
