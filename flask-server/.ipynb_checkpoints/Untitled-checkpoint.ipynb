{
 "cells": [
  {
   "cell_type": "code",
   "execution_count": 8,
   "id": "82a0b65f-d411-48f3-bc1d-e80ac16d77a3",
   "metadata": {},
   "outputs": [],
   "source": [
    "import numpy as np\n",
    "import pandas as pd"
   ]
  },
  {
   "cell_type": "code",
   "execution_count": 10,
   "id": "885e4d7f-1727-4ab4-ae6b-6f98a0a096da",
   "metadata": {},
   "outputs": [
    {
     "name": "stdout",
     "output_type": "stream",
     "text": [
      "hello\n"
     ]
    }
   ],
   "source": [
    "recipes = pd.read_csv(\"./recipes.csv\")\n",
    "print(\"hello\")"
   ]
  },
  {
   "cell_type": "raw",
   "id": "e709f7f5-0014-4611-8e31-bec102e4df6b",
   "metadata": {},
   "source": [
    "print(recipes)"
   ]
  },
  {
   "cell_type": "code",
   "execution_count": null,
   "id": "17f6173b-f1e6-41b3-bc55-2eb9a47fc76a",
   "metadata": {},
   "outputs": [],
   "source": []
  }
 ],
 "metadata": {
  "kernelspec": {
   "display_name": "Python 3 (ipykernel)",
   "language": "python",
   "name": "python3"
  },
  "language_info": {
   "codemirror_mode": {
    "name": "ipython",
    "version": 3
   },
   "file_extension": ".py",
   "mimetype": "text/x-python",
   "name": "python",
   "nbconvert_exporter": "python",
   "pygments_lexer": "ipython3",
   "version": "3.12.0"
  }
 },
 "nbformat": 4,
 "nbformat_minor": 5
}
